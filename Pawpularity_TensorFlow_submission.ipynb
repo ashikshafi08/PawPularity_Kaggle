{
  "nbformat": 4,
  "nbformat_minor": 0,
  "metadata": {
    "colab": {
      "name": "Pawpularity_TensorFlow.ipynb",
      "provenance": [],
      "collapsed_sections": [],
      "authorship_tag": "ABX9TyP1F+G/cs7r/1c2fP2MzGHb",
      "include_colab_link": true
    },
    "kernelspec": {
      "name": "python3",
      "display_name": "Python 3"
    },
    "language_info": {
      "name": "python"
    },
    "accelerator": "GPU"
  },
  "cells": [
    {
      "cell_type": "markdown",
      "metadata": {
        "id": "view-in-github",
        "colab_type": "text"
      },
      "source": [
        "<a href=\"https://colab.research.google.com/github/ashikshafi08/PawPularity_Kaggle/blob/main/Pawpularity_TensorFlow_submission.ipynb\" target=\"_parent\"><img src=\"https://colab.research.google.com/assets/colab-badge.svg\" alt=\"Open In Colab\"/></a>"
      ]
    },
    {
      "cell_type": "markdown",
      "metadata": {
        "id": "XkmoIXHuEiYv"
      },
      "source": [
        "# Pawpularity TensorFlow Implementation\n",
        "This notebook will contain the TensorFlow code for the PawPularity Competition, previously we got ourselves into Top 100 with the help of Fastai but now I want to see how far I can go with TensorFlow. \n",
        "\n",
        "I am going to try the following things, \n",
        "- Use model subclassing when in need \n",
        "- Try out vision transformer \n",
        "- Try out EANet (this replaces the self attention) \n",
        "- "
      ]
    },
    {
      "cell_type": "markdown",
      "metadata": {
        "id": "PFohWIdvFH-J"
      },
      "source": [
        "## Getting the data ready "
      ]
    },
    {
      "cell_type": "code",
      "metadata": {
        "colab": {
          "base_uri": "https://localhost:8080/"
        },
        "id": "SwS_hmwJHMzM",
        "outputId": "8068bfd5-66f6-452c-80ea-1aa0492f3327"
      },
      "source": [
        "# Importing the google drive \n",
        "from google.colab import drive\n",
        "drive._mount('/content/drive')\n",
        "# Importing the needed packages \n",
        "import tensorflow as tf \n",
        "import tensorflow_hub as hub \n",
        "import pandas as pd\n",
        "import matplotlib.pyplot as plt\n",
        "import numpy as np \n",
        "from tensorflow.keras import layers \n",
        "\n",
        "# Installing tensorlfow addons \n",
        "!pip install tensorflow_addons \n",
        "import tensorflow_addons as tfa"
      ],
      "execution_count": null,
      "outputs": [
        {
          "output_type": "stream",
          "name": "stdout",
          "text": [
            "Mounted at /content/drive\n",
            "Collecting tensorflow_addons\n",
            "  Downloading tensorflow_addons-0.15.0-cp37-cp37m-manylinux_2_12_x86_64.manylinux2010_x86_64.whl (1.1 MB)\n",
            "\u001b[K     |████████████████████████████████| 1.1 MB 5.5 MB/s \n",
            "\u001b[?25hRequirement already satisfied: typeguard>=2.7 in /usr/local/lib/python3.7/dist-packages (from tensorflow_addons) (2.7.1)\n",
            "Installing collected packages: tensorflow-addons\n",
            "Successfully installed tensorflow-addons-0.15.0\n"
          ]
        }
      ]
    },
    {
      "cell_type": "code",
      "metadata": {
        "colab": {
          "base_uri": "https://localhost:8080/",
          "height": 288
        },
        "id": "rnDg_TvjHfsf",
        "outputId": "7ff21eab-1605-4ce7-fa20-f188d73e2480"
      },
      "source": [
        "# Specifying the data paths \n",
        "train_image_path = '/content/drive/MyDrive/Kaggle_Competition/petfinder-pawpularity-score/train/'\n",
        "test_image_path = '/content/drive/MyDrive/Kaggle_Competition/petfinder-pawpularity-score/test/'\n",
        "\n",
        "train_df_path = '/content/drive/MyDrive/Kaggle_Competition/petfinder-pawpularity-score/train.csv'\n",
        "test_df_path = '/content/drive/MyDrive/Kaggle_Competition/petfinder-pawpularity-score/test.csv'\n",
        "sample_sub_path = '/content/drive/MyDrive/Kaggle_Competition/petfinder-pawpularity-score/sample_submission.csv'\n",
        "\n",
        "\n",
        "# Loading in the data paths \n",
        "\n",
        "\n",
        "train_df = pd.read_csv(train_df_path)\n",
        "test_df = pd.read_csv(test_df_path)\n",
        "sample_sub_df = pd.read_csv(sample_sub_path)\n",
        "\n",
        "train_df.head()"
      ],
      "execution_count": null,
      "outputs": [
        {
          "output_type": "execute_result",
          "data": {
            "text/html": [
              "\n",
              "  <div id=\"df-79f21405-545f-4e77-afa4-068446ea0519\">\n",
              "    <div class=\"colab-df-container\">\n",
              "      <div>\n",
              "<style scoped>\n",
              "    .dataframe tbody tr th:only-of-type {\n",
              "        vertical-align: middle;\n",
              "    }\n",
              "\n",
              "    .dataframe tbody tr th {\n",
              "        vertical-align: top;\n",
              "    }\n",
              "\n",
              "    .dataframe thead th {\n",
              "        text-align: right;\n",
              "    }\n",
              "</style>\n",
              "<table border=\"1\" class=\"dataframe\">\n",
              "  <thead>\n",
              "    <tr style=\"text-align: right;\">\n",
              "      <th></th>\n",
              "      <th>Id</th>\n",
              "      <th>Subject Focus</th>\n",
              "      <th>Eyes</th>\n",
              "      <th>Face</th>\n",
              "      <th>Near</th>\n",
              "      <th>Action</th>\n",
              "      <th>Accessory</th>\n",
              "      <th>Group</th>\n",
              "      <th>Collage</th>\n",
              "      <th>Human</th>\n",
              "      <th>Occlusion</th>\n",
              "      <th>Info</th>\n",
              "      <th>Blur</th>\n",
              "      <th>Pawpularity</th>\n",
              "    </tr>\n",
              "  </thead>\n",
              "  <tbody>\n",
              "    <tr>\n",
              "      <th>0</th>\n",
              "      <td>0007de18844b0dbbb5e1f607da0606e0</td>\n",
              "      <td>0</td>\n",
              "      <td>1</td>\n",
              "      <td>1</td>\n",
              "      <td>1</td>\n",
              "      <td>0</td>\n",
              "      <td>0</td>\n",
              "      <td>1</td>\n",
              "      <td>0</td>\n",
              "      <td>0</td>\n",
              "      <td>0</td>\n",
              "      <td>0</td>\n",
              "      <td>0</td>\n",
              "      <td>63</td>\n",
              "    </tr>\n",
              "    <tr>\n",
              "      <th>1</th>\n",
              "      <td>0009c66b9439883ba2750fb825e1d7db</td>\n",
              "      <td>0</td>\n",
              "      <td>1</td>\n",
              "      <td>1</td>\n",
              "      <td>0</td>\n",
              "      <td>0</td>\n",
              "      <td>0</td>\n",
              "      <td>0</td>\n",
              "      <td>0</td>\n",
              "      <td>0</td>\n",
              "      <td>0</td>\n",
              "      <td>0</td>\n",
              "      <td>0</td>\n",
              "      <td>42</td>\n",
              "    </tr>\n",
              "    <tr>\n",
              "      <th>2</th>\n",
              "      <td>0013fd999caf9a3efe1352ca1b0d937e</td>\n",
              "      <td>0</td>\n",
              "      <td>1</td>\n",
              "      <td>1</td>\n",
              "      <td>1</td>\n",
              "      <td>0</td>\n",
              "      <td>0</td>\n",
              "      <td>0</td>\n",
              "      <td>0</td>\n",
              "      <td>1</td>\n",
              "      <td>1</td>\n",
              "      <td>0</td>\n",
              "      <td>0</td>\n",
              "      <td>28</td>\n",
              "    </tr>\n",
              "    <tr>\n",
              "      <th>3</th>\n",
              "      <td>0018df346ac9c1d8413cfcc888ca8246</td>\n",
              "      <td>0</td>\n",
              "      <td>1</td>\n",
              "      <td>1</td>\n",
              "      <td>1</td>\n",
              "      <td>0</td>\n",
              "      <td>0</td>\n",
              "      <td>0</td>\n",
              "      <td>0</td>\n",
              "      <td>0</td>\n",
              "      <td>0</td>\n",
              "      <td>0</td>\n",
              "      <td>0</td>\n",
              "      <td>15</td>\n",
              "    </tr>\n",
              "    <tr>\n",
              "      <th>4</th>\n",
              "      <td>001dc955e10590d3ca4673f034feeef2</td>\n",
              "      <td>0</td>\n",
              "      <td>0</td>\n",
              "      <td>0</td>\n",
              "      <td>1</td>\n",
              "      <td>0</td>\n",
              "      <td>0</td>\n",
              "      <td>1</td>\n",
              "      <td>0</td>\n",
              "      <td>0</td>\n",
              "      <td>0</td>\n",
              "      <td>0</td>\n",
              "      <td>0</td>\n",
              "      <td>72</td>\n",
              "    </tr>\n",
              "  </tbody>\n",
              "</table>\n",
              "</div>\n",
              "      <button class=\"colab-df-convert\" onclick=\"convertToInteractive('df-79f21405-545f-4e77-afa4-068446ea0519')\"\n",
              "              title=\"Convert this dataframe to an interactive table.\"\n",
              "              style=\"display:none;\">\n",
              "        \n",
              "  <svg xmlns=\"http://www.w3.org/2000/svg\" height=\"24px\"viewBox=\"0 0 24 24\"\n",
              "       width=\"24px\">\n",
              "    <path d=\"M0 0h24v24H0V0z\" fill=\"none\"/>\n",
              "    <path d=\"M18.56 5.44l.94 2.06.94-2.06 2.06-.94-2.06-.94-.94-2.06-.94 2.06-2.06.94zm-11 1L8.5 8.5l.94-2.06 2.06-.94-2.06-.94L8.5 2.5l-.94 2.06-2.06.94zm10 10l.94 2.06.94-2.06 2.06-.94-2.06-.94-.94-2.06-.94 2.06-2.06.94z\"/><path d=\"M17.41 7.96l-1.37-1.37c-.4-.4-.92-.59-1.43-.59-.52 0-1.04.2-1.43.59L10.3 9.45l-7.72 7.72c-.78.78-.78 2.05 0 2.83L4 21.41c.39.39.9.59 1.41.59.51 0 1.02-.2 1.41-.59l7.78-7.78 2.81-2.81c.8-.78.8-2.07 0-2.86zM5.41 20L4 18.59l7.72-7.72 1.47 1.35L5.41 20z\"/>\n",
              "  </svg>\n",
              "      </button>\n",
              "      \n",
              "  <style>\n",
              "    .colab-df-container {\n",
              "      display:flex;\n",
              "      flex-wrap:wrap;\n",
              "      gap: 12px;\n",
              "    }\n",
              "\n",
              "    .colab-df-convert {\n",
              "      background-color: #E8F0FE;\n",
              "      border: none;\n",
              "      border-radius: 50%;\n",
              "      cursor: pointer;\n",
              "      display: none;\n",
              "      fill: #1967D2;\n",
              "      height: 32px;\n",
              "      padding: 0 0 0 0;\n",
              "      width: 32px;\n",
              "    }\n",
              "\n",
              "    .colab-df-convert:hover {\n",
              "      background-color: #E2EBFA;\n",
              "      box-shadow: 0px 1px 2px rgba(60, 64, 67, 0.3), 0px 1px 3px 1px rgba(60, 64, 67, 0.15);\n",
              "      fill: #174EA6;\n",
              "    }\n",
              "\n",
              "    [theme=dark] .colab-df-convert {\n",
              "      background-color: #3B4455;\n",
              "      fill: #D2E3FC;\n",
              "    }\n",
              "\n",
              "    [theme=dark] .colab-df-convert:hover {\n",
              "      background-color: #434B5C;\n",
              "      box-shadow: 0px 1px 3px 1px rgba(0, 0, 0, 0.15);\n",
              "      filter: drop-shadow(0px 1px 2px rgba(0, 0, 0, 0.3));\n",
              "      fill: #FFFFFF;\n",
              "    }\n",
              "  </style>\n",
              "\n",
              "      <script>\n",
              "        const buttonEl =\n",
              "          document.querySelector('#df-79f21405-545f-4e77-afa4-068446ea0519 button.colab-df-convert');\n",
              "        buttonEl.style.display =\n",
              "          google.colab.kernel.accessAllowed ? 'block' : 'none';\n",
              "\n",
              "        async function convertToInteractive(key) {\n",
              "          const element = document.querySelector('#df-79f21405-545f-4e77-afa4-068446ea0519');\n",
              "          const dataTable =\n",
              "            await google.colab.kernel.invokeFunction('convertToInteractive',\n",
              "                                                     [key], {});\n",
              "          if (!dataTable) return;\n",
              "\n",
              "          const docLinkHtml = 'Like what you see? Visit the ' +\n",
              "            '<a target=\"_blank\" href=https://colab.research.google.com/notebooks/data_table.ipynb>data table notebook</a>'\n",
              "            + ' to learn more about interactive tables.';\n",
              "          element.innerHTML = '';\n",
              "          dataTable['output_type'] = 'display_data';\n",
              "          await google.colab.output.renderOutput(dataTable, element);\n",
              "          const docLink = document.createElement('div');\n",
              "          docLink.innerHTML = docLinkHtml;\n",
              "          element.appendChild(docLink);\n",
              "        }\n",
              "      </script>\n",
              "    </div>\n",
              "  </div>\n",
              "  "
            ],
            "text/plain": [
              "                                 Id  Subject Focus  ...  Blur  Pawpularity\n",
              "0  0007de18844b0dbbb5e1f607da0606e0              0  ...     0           63\n",
              "1  0009c66b9439883ba2750fb825e1d7db              0  ...     0           42\n",
              "2  0013fd999caf9a3efe1352ca1b0d937e              0  ...     0           28\n",
              "3  0018df346ac9c1d8413cfcc888ca8246              0  ...     0           15\n",
              "4  001dc955e10590d3ca4673f034feeef2              0  ...     0           72\n",
              "\n",
              "[5 rows x 14 columns]"
            ]
          },
          "metadata": {},
          "execution_count": 2
        }
      ]
    },
    {
      "cell_type": "code",
      "metadata": {
        "colab": {
          "base_uri": "https://localhost:8080/",
          "height": 444
        },
        "id": "8OM2OsLqHvVm",
        "outputId": "babbb725-b60e-40bf-b408-730c05f15c12"
      },
      "source": [
        "# Append the full path \n",
        "def append_ext(fn , train = True):\n",
        "  if train:\n",
        "    return f'{train_image_path}{fn}.jpg'\n",
        "  else:\n",
        "    return f'{test_image_path}{fn}.jpg'\n",
        "\n",
        "# Applying the above function on our dataframe \n",
        "train_df['full_path'] = train_df['Id'].apply(lambda x: append_ext(x))\n",
        "test_df['full_path'] = test_df['Id'].apply(lambda x: append_ext(x , train = False))\n",
        "\n",
        "train_df.head(10)"
      ],
      "execution_count": null,
      "outputs": [
        {
          "output_type": "execute_result",
          "data": {
            "text/html": [
              "\n",
              "  <div id=\"df-ce686f0c-c5e2-4365-9603-8f69812deeab\">\n",
              "    <div class=\"colab-df-container\">\n",
              "      <div>\n",
              "<style scoped>\n",
              "    .dataframe tbody tr th:only-of-type {\n",
              "        vertical-align: middle;\n",
              "    }\n",
              "\n",
              "    .dataframe tbody tr th {\n",
              "        vertical-align: top;\n",
              "    }\n",
              "\n",
              "    .dataframe thead th {\n",
              "        text-align: right;\n",
              "    }\n",
              "</style>\n",
              "<table border=\"1\" class=\"dataframe\">\n",
              "  <thead>\n",
              "    <tr style=\"text-align: right;\">\n",
              "      <th></th>\n",
              "      <th>Id</th>\n",
              "      <th>Subject Focus</th>\n",
              "      <th>Eyes</th>\n",
              "      <th>Face</th>\n",
              "      <th>Near</th>\n",
              "      <th>Action</th>\n",
              "      <th>Accessory</th>\n",
              "      <th>Group</th>\n",
              "      <th>Collage</th>\n",
              "      <th>Human</th>\n",
              "      <th>Occlusion</th>\n",
              "      <th>Info</th>\n",
              "      <th>Blur</th>\n",
              "      <th>Pawpularity</th>\n",
              "      <th>full_path</th>\n",
              "    </tr>\n",
              "  </thead>\n",
              "  <tbody>\n",
              "    <tr>\n",
              "      <th>0</th>\n",
              "      <td>0007de18844b0dbbb5e1f607da0606e0</td>\n",
              "      <td>0</td>\n",
              "      <td>1</td>\n",
              "      <td>1</td>\n",
              "      <td>1</td>\n",
              "      <td>0</td>\n",
              "      <td>0</td>\n",
              "      <td>1</td>\n",
              "      <td>0</td>\n",
              "      <td>0</td>\n",
              "      <td>0</td>\n",
              "      <td>0</td>\n",
              "      <td>0</td>\n",
              "      <td>63</td>\n",
              "      <td>/content/drive/MyDrive/Kaggle_Competition/petf...</td>\n",
              "    </tr>\n",
              "    <tr>\n",
              "      <th>1</th>\n",
              "      <td>0009c66b9439883ba2750fb825e1d7db</td>\n",
              "      <td>0</td>\n",
              "      <td>1</td>\n",
              "      <td>1</td>\n",
              "      <td>0</td>\n",
              "      <td>0</td>\n",
              "      <td>0</td>\n",
              "      <td>0</td>\n",
              "      <td>0</td>\n",
              "      <td>0</td>\n",
              "      <td>0</td>\n",
              "      <td>0</td>\n",
              "      <td>0</td>\n",
              "      <td>42</td>\n",
              "      <td>/content/drive/MyDrive/Kaggle_Competition/petf...</td>\n",
              "    </tr>\n",
              "    <tr>\n",
              "      <th>2</th>\n",
              "      <td>0013fd999caf9a3efe1352ca1b0d937e</td>\n",
              "      <td>0</td>\n",
              "      <td>1</td>\n",
              "      <td>1</td>\n",
              "      <td>1</td>\n",
              "      <td>0</td>\n",
              "      <td>0</td>\n",
              "      <td>0</td>\n",
              "      <td>0</td>\n",
              "      <td>1</td>\n",
              "      <td>1</td>\n",
              "      <td>0</td>\n",
              "      <td>0</td>\n",
              "      <td>28</td>\n",
              "      <td>/content/drive/MyDrive/Kaggle_Competition/petf...</td>\n",
              "    </tr>\n",
              "    <tr>\n",
              "      <th>3</th>\n",
              "      <td>0018df346ac9c1d8413cfcc888ca8246</td>\n",
              "      <td>0</td>\n",
              "      <td>1</td>\n",
              "      <td>1</td>\n",
              "      <td>1</td>\n",
              "      <td>0</td>\n",
              "      <td>0</td>\n",
              "      <td>0</td>\n",
              "      <td>0</td>\n",
              "      <td>0</td>\n",
              "      <td>0</td>\n",
              "      <td>0</td>\n",
              "      <td>0</td>\n",
              "      <td>15</td>\n",
              "      <td>/content/drive/MyDrive/Kaggle_Competition/petf...</td>\n",
              "    </tr>\n",
              "    <tr>\n",
              "      <th>4</th>\n",
              "      <td>001dc955e10590d3ca4673f034feeef2</td>\n",
              "      <td>0</td>\n",
              "      <td>0</td>\n",
              "      <td>0</td>\n",
              "      <td>1</td>\n",
              "      <td>0</td>\n",
              "      <td>0</td>\n",
              "      <td>1</td>\n",
              "      <td>0</td>\n",
              "      <td>0</td>\n",
              "      <td>0</td>\n",
              "      <td>0</td>\n",
              "      <td>0</td>\n",
              "      <td>72</td>\n",
              "      <td>/content/drive/MyDrive/Kaggle_Competition/petf...</td>\n",
              "    </tr>\n",
              "    <tr>\n",
              "      <th>5</th>\n",
              "      <td>001dd4f6fafb890610b1635f967ea081</td>\n",
              "      <td>0</td>\n",
              "      <td>0</td>\n",
              "      <td>1</td>\n",
              "      <td>0</td>\n",
              "      <td>0</td>\n",
              "      <td>0</td>\n",
              "      <td>0</td>\n",
              "      <td>0</td>\n",
              "      <td>0</td>\n",
              "      <td>0</td>\n",
              "      <td>0</td>\n",
              "      <td>1</td>\n",
              "      <td>74</td>\n",
              "      <td>/content/drive/MyDrive/Kaggle_Competition/petf...</td>\n",
              "    </tr>\n",
              "    <tr>\n",
              "      <th>6</th>\n",
              "      <td>0023b8a3abc93c712edd6120867deb53</td>\n",
              "      <td>0</td>\n",
              "      <td>1</td>\n",
              "      <td>1</td>\n",
              "      <td>1</td>\n",
              "      <td>0</td>\n",
              "      <td>0</td>\n",
              "      <td>0</td>\n",
              "      <td>0</td>\n",
              "      <td>1</td>\n",
              "      <td>1</td>\n",
              "      <td>0</td>\n",
              "      <td>0</td>\n",
              "      <td>22</td>\n",
              "      <td>/content/drive/MyDrive/Kaggle_Competition/petf...</td>\n",
              "    </tr>\n",
              "    <tr>\n",
              "      <th>7</th>\n",
              "      <td>0031d6a9ef7340f898c3e05f92c7bb04</td>\n",
              "      <td>0</td>\n",
              "      <td>1</td>\n",
              "      <td>1</td>\n",
              "      <td>0</td>\n",
              "      <td>0</td>\n",
              "      <td>0</td>\n",
              "      <td>1</td>\n",
              "      <td>1</td>\n",
              "      <td>0</td>\n",
              "      <td>0</td>\n",
              "      <td>1</td>\n",
              "      <td>0</td>\n",
              "      <td>35</td>\n",
              "      <td>/content/drive/MyDrive/Kaggle_Competition/petf...</td>\n",
              "    </tr>\n",
              "    <tr>\n",
              "      <th>8</th>\n",
              "      <td>0042bc5bada6d1cf8951f8f9f0d399fa</td>\n",
              "      <td>0</td>\n",
              "      <td>1</td>\n",
              "      <td>1</td>\n",
              "      <td>1</td>\n",
              "      <td>0</td>\n",
              "      <td>0</td>\n",
              "      <td>0</td>\n",
              "      <td>0</td>\n",
              "      <td>0</td>\n",
              "      <td>0</td>\n",
              "      <td>0</td>\n",
              "      <td>0</td>\n",
              "      <td>53</td>\n",
              "      <td>/content/drive/MyDrive/Kaggle_Competition/petf...</td>\n",
              "    </tr>\n",
              "    <tr>\n",
              "      <th>9</th>\n",
              "      <td>0049cb81313c94fa007286e9039af910</td>\n",
              "      <td>0</td>\n",
              "      <td>1</td>\n",
              "      <td>1</td>\n",
              "      <td>1</td>\n",
              "      <td>0</td>\n",
              "      <td>0</td>\n",
              "      <td>0</td>\n",
              "      <td>0</td>\n",
              "      <td>0</td>\n",
              "      <td>0</td>\n",
              "      <td>0</td>\n",
              "      <td>0</td>\n",
              "      <td>21</td>\n",
              "      <td>/content/drive/MyDrive/Kaggle_Competition/petf...</td>\n",
              "    </tr>\n",
              "  </tbody>\n",
              "</table>\n",
              "</div>\n",
              "      <button class=\"colab-df-convert\" onclick=\"convertToInteractive('df-ce686f0c-c5e2-4365-9603-8f69812deeab')\"\n",
              "              title=\"Convert this dataframe to an interactive table.\"\n",
              "              style=\"display:none;\">\n",
              "        \n",
              "  <svg xmlns=\"http://www.w3.org/2000/svg\" height=\"24px\"viewBox=\"0 0 24 24\"\n",
              "       width=\"24px\">\n",
              "    <path d=\"M0 0h24v24H0V0z\" fill=\"none\"/>\n",
              "    <path d=\"M18.56 5.44l.94 2.06.94-2.06 2.06-.94-2.06-.94-.94-2.06-.94 2.06-2.06.94zm-11 1L8.5 8.5l.94-2.06 2.06-.94-2.06-.94L8.5 2.5l-.94 2.06-2.06.94zm10 10l.94 2.06.94-2.06 2.06-.94-2.06-.94-.94-2.06-.94 2.06-2.06.94z\"/><path d=\"M17.41 7.96l-1.37-1.37c-.4-.4-.92-.59-1.43-.59-.52 0-1.04.2-1.43.59L10.3 9.45l-7.72 7.72c-.78.78-.78 2.05 0 2.83L4 21.41c.39.39.9.59 1.41.59.51 0 1.02-.2 1.41-.59l7.78-7.78 2.81-2.81c.8-.78.8-2.07 0-2.86zM5.41 20L4 18.59l7.72-7.72 1.47 1.35L5.41 20z\"/>\n",
              "  </svg>\n",
              "      </button>\n",
              "      \n",
              "  <style>\n",
              "    .colab-df-container {\n",
              "      display:flex;\n",
              "      flex-wrap:wrap;\n",
              "      gap: 12px;\n",
              "    }\n",
              "\n",
              "    .colab-df-convert {\n",
              "      background-color: #E8F0FE;\n",
              "      border: none;\n",
              "      border-radius: 50%;\n",
              "      cursor: pointer;\n",
              "      display: none;\n",
              "      fill: #1967D2;\n",
              "      height: 32px;\n",
              "      padding: 0 0 0 0;\n",
              "      width: 32px;\n",
              "    }\n",
              "\n",
              "    .colab-df-convert:hover {\n",
              "      background-color: #E2EBFA;\n",
              "      box-shadow: 0px 1px 2px rgba(60, 64, 67, 0.3), 0px 1px 3px 1px rgba(60, 64, 67, 0.15);\n",
              "      fill: #174EA6;\n",
              "    }\n",
              "\n",
              "    [theme=dark] .colab-df-convert {\n",
              "      background-color: #3B4455;\n",
              "      fill: #D2E3FC;\n",
              "    }\n",
              "\n",
              "    [theme=dark] .colab-df-convert:hover {\n",
              "      background-color: #434B5C;\n",
              "      box-shadow: 0px 1px 3px 1px rgba(0, 0, 0, 0.15);\n",
              "      filter: drop-shadow(0px 1px 2px rgba(0, 0, 0, 0.3));\n",
              "      fill: #FFFFFF;\n",
              "    }\n",
              "  </style>\n",
              "\n",
              "      <script>\n",
              "        const buttonEl =\n",
              "          document.querySelector('#df-ce686f0c-c5e2-4365-9603-8f69812deeab button.colab-df-convert');\n",
              "        buttonEl.style.display =\n",
              "          google.colab.kernel.accessAllowed ? 'block' : 'none';\n",
              "\n",
              "        async function convertToInteractive(key) {\n",
              "          const element = document.querySelector('#df-ce686f0c-c5e2-4365-9603-8f69812deeab');\n",
              "          const dataTable =\n",
              "            await google.colab.kernel.invokeFunction('convertToInteractive',\n",
              "                                                     [key], {});\n",
              "          if (!dataTable) return;\n",
              "\n",
              "          const docLinkHtml = 'Like what you see? Visit the ' +\n",
              "            '<a target=\"_blank\" href=https://colab.research.google.com/notebooks/data_table.ipynb>data table notebook</a>'\n",
              "            + ' to learn more about interactive tables.';\n",
              "          element.innerHTML = '';\n",
              "          dataTable['output_type'] = 'display_data';\n",
              "          await google.colab.output.renderOutput(dataTable, element);\n",
              "          const docLink = document.createElement('div');\n",
              "          docLink.innerHTML = docLinkHtml;\n",
              "          element.appendChild(docLink);\n",
              "        }\n",
              "      </script>\n",
              "    </div>\n",
              "  </div>\n",
              "  "
            ],
            "text/plain": [
              "                                 Id  ...                                          full_path\n",
              "0  0007de18844b0dbbb5e1f607da0606e0  ...  /content/drive/MyDrive/Kaggle_Competition/petf...\n",
              "1  0009c66b9439883ba2750fb825e1d7db  ...  /content/drive/MyDrive/Kaggle_Competition/petf...\n",
              "2  0013fd999caf9a3efe1352ca1b0d937e  ...  /content/drive/MyDrive/Kaggle_Competition/petf...\n",
              "3  0018df346ac9c1d8413cfcc888ca8246  ...  /content/drive/MyDrive/Kaggle_Competition/petf...\n",
              "4  001dc955e10590d3ca4673f034feeef2  ...  /content/drive/MyDrive/Kaggle_Competition/petf...\n",
              "5  001dd4f6fafb890610b1635f967ea081  ...  /content/drive/MyDrive/Kaggle_Competition/petf...\n",
              "6  0023b8a3abc93c712edd6120867deb53  ...  /content/drive/MyDrive/Kaggle_Competition/petf...\n",
              "7  0031d6a9ef7340f898c3e05f92c7bb04  ...  /content/drive/MyDrive/Kaggle_Competition/petf...\n",
              "8  0042bc5bada6d1cf8951f8f9f0d399fa  ...  /content/drive/MyDrive/Kaggle_Competition/petf...\n",
              "9  0049cb81313c94fa007286e9039af910  ...  /content/drive/MyDrive/Kaggle_Competition/petf...\n",
              "\n",
              "[10 rows x 15 columns]"
            ]
          },
          "metadata": {},
          "execution_count": 3
        }
      ]
    },
    {
      "cell_type": "code",
      "metadata": {
        "colab": {
          "base_uri": "https://localhost:8080/",
          "height": 466
        },
        "id": "YUcpAFJfIKzX",
        "outputId": "a042f189-4ac6-461e-882f-dd43969e1e50"
      },
      "source": [
        "# Displaying random images of pets \n",
        "import matplotlib.image as mpimg \n",
        "import random \n",
        "from matplotlib.pyplot import figure \n",
        "random_index = random.randrange(len(train_df['full_path'].tolist())) \n",
        "\n",
        "train_fns = train_df['full_path'].tolist()\n",
        "train_labels = train_df['Pawpularity'].to_list()\n",
        "\n",
        "\n",
        "random_filename = train_fns[random_index]\n",
        "random_label = train_labels[random_index]\n",
        "\n",
        "# Plotting the image \n",
        "im = mpimg.imread(random_filename)\n",
        "figure(figsize = (10 , 8))\n",
        "plt.imshow(im)\n",
        "plt.axis('off');"
      ],
      "execution_count": null,
      "outputs": [
        {
          "output_type": "display_data",
          "data": {
            "image/png": "[encoded data removed]",
            "text/plain": [
              "<Figure size 720x576 with 1 Axes>"
            ]
          },
          "metadata": {
            "needs_background": "light"
          }
        }
      ]
    },
    {
      "cell_type": "code",
      "metadata": {
        "id": "Zsl_MH_qIPNg",
        "colab": {
          "base_uri": "https://localhost:8080/",
          "height": 288
        },
        "outputId": "3115ce9d-0623-48d0-faa9-38c3be6c42a9"
      },
      "source": [
        "train_df.head()"
      ],
      "execution_count": null,
      "outputs": [
        {
          "output_type": "execute_result",
          "data": {
            "text/html": [
              "\n",
              "  <div id=\"df-f2d25e68-f2af-467b-b486-6aa534d070bc\">\n",
              "    <div class=\"colab-df-container\">\n",
              "      <div>\n",
              "<style scoped>\n",
              "    .dataframe tbody tr th:only-of-type {\n",
              "        vertical-align: middle;\n",
              "    }\n",
              "\n",
              "    .dataframe tbody tr th {\n",
              "        vertical-align: top;\n",
              "    }\n",
              "\n",
              "    .dataframe thead th {\n",
              "        text-align: right;\n",
              "    }\n",
              "</style>\n",
              "<table border=\"1\" class=\"dataframe\">\n",
              "  <thead>\n",
              "    <tr style=\"text-align: right;\">\n",
              "      <th></th>\n",
              "      <th>Id</th>\n",
              "      <th>Subject Focus</th>\n",
              "      <th>Eyes</th>\n",
              "      <th>Face</th>\n",
              "      <th>Near</th>\n",
              "      <th>Action</th>\n",
              "      <th>Accessory</th>\n",
              "      <th>Group</th>\n",
              "      <th>Collage</th>\n",
              "      <th>Human</th>\n",
              "      <th>Occlusion</th>\n",
              "      <th>Info</th>\n",
              "      <th>Blur</th>\n",
              "      <th>Pawpularity</th>\n",
              "      <th>full_path</th>\n",
              "    </tr>\n",
              "  </thead>\n",
              "  <tbody>\n",
              "    <tr>\n",
              "      <th>0</th>\n",
              "      <td>0007de18844b0dbbb5e1f607da0606e0</td>\n",
              "      <td>0</td>\n",
              "      <td>1</td>\n",
              "      <td>1</td>\n",
              "      <td>1</td>\n",
              "      <td>0</td>\n",
              "      <td>0</td>\n",
              "      <td>1</td>\n",
              "      <td>0</td>\n",
              "      <td>0</td>\n",
              "      <td>0</td>\n",
              "      <td>0</td>\n",
              "      <td>0</td>\n",
              "      <td>63</td>\n",
              "      <td>/content/drive/MyDrive/Kaggle_Competition/petf...</td>\n",
              "    </tr>\n",
              "    <tr>\n",
              "      <th>1</th>\n",
              "      <td>0009c66b9439883ba2750fb825e1d7db</td>\n",
              "      <td>0</td>\n",
              "      <td>1</td>\n",
              "      <td>1</td>\n",
              "      <td>0</td>\n",
              "      <td>0</td>\n",
              "      <td>0</td>\n",
              "      <td>0</td>\n",
              "      <td>0</td>\n",
              "      <td>0</td>\n",
              "      <td>0</td>\n",
              "      <td>0</td>\n",
              "      <td>0</td>\n",
              "      <td>42</td>\n",
              "      <td>/content/drive/MyDrive/Kaggle_Competition/petf...</td>\n",
              "    </tr>\n",
              "    <tr>\n",
              "      <th>2</th>\n",
              "      <td>0013fd999caf9a3efe1352ca1b0d937e</td>\n",
              "      <td>0</td>\n",
              "      <td>1</td>\n",
              "      <td>1</td>\n",
              "      <td>1</td>\n",
              "      <td>0</td>\n",
              "      <td>0</td>\n",
              "      <td>0</td>\n",
              "      <td>0</td>\n",
              "      <td>1</td>\n",
              "      <td>1</td>\n",
              "      <td>0</td>\n",
              "      <td>0</td>\n",
              "      <td>28</td>\n",
              "      <td>/content/drive/MyDrive/Kaggle_Competition/petf...</td>\n",
              "    </tr>\n",
              "    <tr>\n",
              "      <th>3</th>\n",
              "      <td>0018df346ac9c1d8413cfcc888ca8246</td>\n",
              "      <td>0</td>\n",
              "      <td>1</td>\n",
              "      <td>1</td>\n",
              "      <td>1</td>\n",
              "      <td>0</td>\n",
              "      <td>0</td>\n",
              "      <td>0</td>\n",
              "      <td>0</td>\n",
              "      <td>0</td>\n",
              "      <td>0</td>\n",
              "      <td>0</td>\n",
              "      <td>0</td>\n",
              "      <td>15</td>\n",
              "      <td>/content/drive/MyDrive/Kaggle_Competition/petf...</td>\n",
              "    </tr>\n",
              "    <tr>\n",
              "      <th>4</th>\n",
              "      <td>001dc955e10590d3ca4673f034feeef2</td>\n",
              "      <td>0</td>\n",
              "      <td>0</td>\n",
              "      <td>0</td>\n",
              "      <td>1</td>\n",
              "      <td>0</td>\n",
              "      <td>0</td>\n",
              "      <td>1</td>\n",
              "      <td>0</td>\n",
              "      <td>0</td>\n",
              "      <td>0</td>\n",
              "      <td>0</td>\n",
              "      <td>0</td>\n",
              "      <td>72</td>\n",
              "      <td>/content/drive/MyDrive/Kaggle_Competition/petf...</td>\n",
              "    </tr>\n",
              "  </tbody>\n",
              "</table>\n",
              "</div>\n",
              "      <button class=\"colab-df-convert\" onclick=\"convertToInteractive('df-f2d25e68-f2af-467b-b486-6aa534d070bc')\"\n",
              "              title=\"Convert this dataframe to an interactive table.\"\n",
              "              style=\"display:none;\">\n",
              "        \n",
              "  <svg xmlns=\"http://www.w3.org/2000/svg\" height=\"24px\"viewBox=\"0 0 24 24\"\n",
              "       width=\"24px\">\n",
              "    <path d=\"M0 0h24v24H0V0z\" fill=\"none\"/>\n",
              "    <path d=\"M18.56 5.44l.94 2.06.94-2.06 2.06-.94-2.06-.94-.94-2.06-.94 2.06-2.06.94zm-11 1L8.5 8.5l.94-2.06 2.06-.94-2.06-.94L8.5 2.5l-.94 2.06-2.06.94zm10 10l.94 2.06.94-2.06 2.06-.94-2.06-.94-.94-2.06-.94 2.06-2.06.94z\"/><path d=\"M17.41 7.96l-1.37-1.37c-.4-.4-.92-.59-1.43-.59-.52 0-1.04.2-1.43.59L10.3 9.45l-7.72 7.72c-.78.78-.78 2.05 0 2.83L4 21.41c.39.39.9.59 1.41.59.51 0 1.02-.2 1.41-.59l7.78-7.78 2.81-2.81c.8-.78.8-2.07 0-2.86zM5.41 20L4 18.59l7.72-7.72 1.47 1.35L5.41 20z\"/>\n",
              "  </svg>\n",
              "      </button>\n",
              "      \n",
              "  <style>\n",
              "    .colab-df-container {\n",
              "      display:flex;\n",
              "      flex-wrap:wrap;\n",
              "      gap: 12px;\n",
              "    }\n",
              "\n",
              "    .colab-df-convert {\n",
              "      background-color: #E8F0FE;\n",
              "      border: none;\n",
              "      border-radius: 50%;\n",
              "      cursor: pointer;\n",
              "      display: none;\n",
              "      fill: #1967D2;\n",
              "      height: 32px;\n",
              "      padding: 0 0 0 0;\n",
              "      width: 32px;\n",
              "    }\n",
              "\n",
              "    .colab-df-convert:hover {\n",
              "      background-color: #E2EBFA;\n",
              "      box-shadow: 0px 1px 2px rgba(60, 64, 67, 0.3), 0px 1px 3px 1px rgba(60, 64, 67, 0.15);\n",
              "      fill: #174EA6;\n",
              "    }\n",
              "\n",
              "    [theme=dark] .colab-df-convert {\n",
              "      background-color: #3B4455;\n",
              "      fill: #D2E3FC;\n",
              "    }\n",
              "\n",
              "    [theme=dark] .colab-df-convert:hover {\n",
              "      background-color: #434B5C;\n",
              "      box-shadow: 0px 1px 3px 1px rgba(0, 0, 0, 0.15);\n",
              "      filter: drop-shadow(0px 1px 2px rgba(0, 0, 0, 0.3));\n",
              "      fill: #FFFFFF;\n",
              "    }\n",
              "  </style>\n",
              "\n",
              "      <script>\n",
              "        const buttonEl =\n",
              "          document.querySelector('#df-f2d25e68-f2af-467b-b486-6aa534d070bc button.colab-df-convert');\n",
              "        buttonEl.style.display =\n",
              "          google.colab.kernel.accessAllowed ? 'block' : 'none';\n",
              "\n",
              "        async function convertToInteractive(key) {\n",
              "          const element = document.querySelector('#df-f2d25e68-f2af-467b-b486-6aa534d070bc');\n",
              "          const dataTable =\n",
              "            await google.colab.kernel.invokeFunction('convertToInteractive',\n",
              "                                                     [key], {});\n",
              "          if (!dataTable) return;\n",
              "\n",
              "          const docLinkHtml = 'Like what you see? Visit the ' +\n",
              "            '<a target=\"_blank\" href=https://colab.research.google.com/notebooks/data_table.ipynb>data table notebook</a>'\n",
              "            + ' to learn more about interactive tables.';\n",
              "          element.innerHTML = '';\n",
              "          dataTable['output_type'] = 'display_data';\n",
              "          await google.colab.output.renderOutput(dataTable, element);\n",
              "          const docLink = document.createElement('div');\n",
              "          docLink.innerHTML = docLinkHtml;\n",
              "          element.appendChild(docLink);\n",
              "        }\n",
              "      </script>\n",
              "    </div>\n",
              "  </div>\n",
              "  "
            ],
            "text/plain": [
              "                                 Id  ...                                          full_path\n",
              "0  0007de18844b0dbbb5e1f607da0606e0  ...  /content/drive/MyDrive/Kaggle_Competition/petf...\n",
              "1  0009c66b9439883ba2750fb825e1d7db  ...  /content/drive/MyDrive/Kaggle_Competition/petf...\n",
              "2  0013fd999caf9a3efe1352ca1b0d937e  ...  /content/drive/MyDrive/Kaggle_Competition/petf...\n",
              "3  0018df346ac9c1d8413cfcc888ca8246  ...  /content/drive/MyDrive/Kaggle_Competition/petf...\n",
              "4  001dc955e10590d3ca4673f034feeef2  ...  /content/drive/MyDrive/Kaggle_Competition/petf...\n",
              "\n",
              "[5 rows x 15 columns]"
            ]
          },
          "metadata": {},
          "execution_count": 5
        }
      ]
    },
    {
      "cell_type": "markdown",
      "metadata": {
        "id": "5XtniAwDKIdq"
      },
      "source": [
        "##1. Own Flavours of Multi-modal model (positional encoding)\n",
        "\n",
        "Things to do: \n",
        "- Use the EfficientNetB0 as the image feature extractor\n",
        "- Make use of the other features as positional encoding. \n",
        "- See if there should be used differente losses (classification + regression) "
      ]
    },
    {
      "cell_type": "code",
      "metadata": {
        "id": "JI4QcV8SK4Wm"
      },
      "source": [
        "# Getting the EfficientNetB0 base model \n",
        "input_shape = (224 , 224 ,3)\n",
        "#base_model = tf.keras.applications.EfficientNetB0(include_top= False)\n",
        "\n",
        "# Freeze the base model layers \n",
        "#base_model.trainable = False \n"
      ],
      "execution_count": null,
      "outputs": []
    },
    {
      "cell_type": "code",
      "metadata": {
        "id": "4Wd26LLQSAM3"
      },
      "source": [
        "def augment_data(img):\n",
        "    img = tf.image.random_flip_left_right(img)\n",
        "    img = tf.image.random_flip_up_down(img)\n",
        "    img = tf.image.random_saturation(img , 0.95 , 1.05)\n",
        "    img = tf.image.random_brightness(img , 0.5)\n",
        "    img = tf.image.random_contrast(img , 0.95 , 1.05)\n",
        "    img = tf.image.random_hue(img , 0.05)\n",
        "    \n",
        "    return img\n",
        "\n",
        "\n",
        "\n",
        "# Get the image data \n",
        "def load_img(file_path , label):\n",
        "  im = tf.io.read_file(file_path)\n",
        "  im = tf.image.decode_jpeg(im , channels = 3)\n",
        "  im = tf.image.convert_image_dtype(im , tf.float32)\n",
        "  im = tf.image.resize(im , size = (224 , 224))\n",
        " # im = im / 255. # turns the whole image into black\n",
        "  im = augment_data(im)\n",
        "  return im , label"
      ],
      "execution_count": null,
      "outputs": []
    },
    {
      "cell_type": "markdown",
      "metadata": {
        "id": "uuVxdWoJSKeh"
      },
      "source": [
        "Building the model with the following features, \n",
        "- Subject Focus (one hot encoded)\n",
        "- Eyes (one hot encoded) \n",
        "- Human (one hot encoded) \n",
        "- Pawpularity (the label itself) \n",
        "- full_path (locate the images) "
      ]
    },
    {
      "cell_type": "code",
      "metadata": {
        "id": "n_sSivaXSV0d"
      },
      "source": [
        "# Buildin the model (no idea)\n",
        "\n",
        "# Getting the image data \n",
        "img_inputs = layers.Input(shape = input_shape , name = 'Input layer')\n"
      ],
      "execution_count": null,
      "outputs": []
    },
    {
      "cell_type": "code",
      "metadata": {
        "id": "r4KAiKlfSW3_"
      },
      "source": [
        "# Building Image Feature Vector \n",
        "def image_feature_vector(input_shape , units):\n",
        "\n",
        "  inputs = layers.Input(shape = input_shape , name = 'Input layer')\n",
        "  x = base_model(inputs , training = False)\n",
        "  x = layers.GlobalAveragePooling2D(name = 'pooling_layer')(x)\n",
        "  x = layers.Dense(units , activation= 'relu')(x)\n",
        "\n",
        "  # Packing into a feature vector model \n",
        "  feat_model = tf.keras.Model(inputs , x)\n",
        "  return feat_model\n"
      ],
      "execution_count": null,
      "outputs": []
    },
    {
      "cell_type": "markdown",
      "metadata": {
        "id": "EK8_TeCgTvrB"
      },
      "source": [
        "Whats next? \n",
        "\n",
        "We got the image feature vector which has the image representation as a vector, the next thing will be trying to tweak in the one hot encoding features and see if they can increase the performance of the model. \n",
        "\n",
        "This is going to be bit tricky tho.\n",
        "\n",
        "\n",
        "```\n",
        "img_feature vector -> eyes feat vector -> rest all the feature vector -> concatenate the all the outputs -> some more additional layers on top of the feature vectors -> dropout -> output layer (linear tho) -> Pack into a model \n",
        "\n",
        "\n",
        "```\n",
        "\n",
        "\n",
        "- Image Embedding: This takes in the image, apply the EfficientNet model to our images, gives out the embeddings. \n",
        "- PositionalEmbedding: Takes in a one hot encoded and apply dense layer on it, returns back the embeddings. \n",
        "\n",
        "\n",
        "\n",
        "[Multi-Input and output in Subclassing](https://stackoverflow.com/questions/59743161/tensorflow-model-subclassing-mutli-input)"
      ]
    },
    {
      "cell_type": "code",
      "metadata": {
        "colab": {
          "base_uri": "https://localhost:8080/"
        },
        "id": "tQFDDj3nWYEh",
        "outputId": "e2ec9018-37a9-4172-9bab-4191cbc70e8e"
      },
      "source": [
        "len(train_df.Pawpularity)"
      ],
      "execution_count": null,
      "outputs": [
        {
          "output_type": "execute_result",
          "data": {
            "text/plain": [
              "9912"
            ]
          },
          "metadata": {},
          "execution_count": 21
        }
      ]
    },
    {
      "cell_type": "code",
      "metadata": {
        "id": "GPO05fRXUMJP"
      },
      "source": [
        "class ImageEmbedding(tf.keras.layers.Layer):\n",
        "\n",
        "  def __init__(self , units, activation , shape , **kwargs):\n",
        "    super(ImageEmbedding , self).__init__(**kwargs)\n",
        "\n",
        "    self.units = units \n",
        "    self.activation = activation\n",
        "\n",
        "    self.inp_layer = layers.Input(shape = input_shape , name = 'input_layer')\n",
        "    self.base_model = tf.keras.applications.EfficientNetB0(include_top= False)\n",
        "    self.dense = tf.keras.layers.Dense(units = units , activation = activation , name = 'simple_dense_layer')\n",
        "    self.pooling_layer = layers.GlobalMaxPooling2D()\n",
        "\n",
        "  def call(self , inputs):\n",
        "    self.base_model.trainable = False \n",
        "    img = inputs[0] # image tensor\n",
        "    label = inputs[1] # label\n",
        "    x = self.base_model(img , training = False)\n",
        "    x = self.pooling_layer(x)\n",
        "    x = self.dense(x)\n",
        "    return x ,label\n"
      ],
      "execution_count": null,
      "outputs": []
    },
    {
      "cell_type": "code",
      "metadata": {
        "colab": {
          "base_uri": "https://localhost:8080/"
        },
        "id": "LGfd-w3rKv1H",
        "outputId": "4334d7c0-f6e2-4be1-e6e2-e342438e0e95"
      },
      "source": [
        "im = ImageEmbedding(32 , activation= 'relu' , shape = (224 , 224 , 3))\n",
        "im"
      ],
      "execution_count": null,
      "outputs": [
        {
          "output_type": "stream",
          "name": "stdout",
          "text": [
            "Downloading data from https://storage.googleapis.com/keras-applications/efficientnetb0_notop.h5\n",
            "16711680/16705208 [==============================] - 0s 0us/step\n",
            "16719872/16705208 [==============================] - 0s 0us/step\n"
          ]
        },
        {
          "output_type": "execute_result",
          "data": {
            "text/plain": [
              "<__main__.ImageEmbedding at 0x7fda1647ca10>"
            ]
          },
          "metadata": {},
          "execution_count": 14
        }
      ]
    },
    {
      "cell_type": "code",
      "metadata": {
        "colab": {
          "base_uri": "https://localhost:8080/"
        },
        "id": "4hCXxiYrK2o2",
        "outputId": "e731a7cc-6c7d-4e85-dd5d-3c0dda4657e3"
      },
      "source": [
        "sample_img = load_img(random_filename, random_label)\n",
        "# Just getting the image\n",
        "layers.Dense(32 , activation = 'relu')(im(sample_img)[0])"
      ],
      "execution_count": null,
      "outputs": [
        {
          "output_type": "execute_result",
          "data": {
            "text/plain": [
              "<tf.Tensor: shape=(1, 32), dtype=float32, numpy=\n",
              "array([[4.4436216 , 0.        , 3.053551  , 0.        , 0.        ,\n",
              "        4.094793  , 0.        , 3.9108403 , 0.        , 0.        ,\n",
              "        0.        , 0.        , 0.        , 3.068644  , 4.984922  ,\n",
              "        4.26949   , 0.        , 0.        , 6.066822  , 0.        ,\n",
              "        0.        , 0.        , 0.        , 0.        , 5.050349  ,\n",
              "        2.0488374 , 1.7391028 , 0.        , 0.        , 3.8850965 ,\n",
              "        5.8861947 , 0.05609845]], dtype=float32)>"
            ]
          },
          "metadata": {},
          "execution_count": 15
        }
      ]
    },
    {
      "cell_type": "code",
      "metadata": {
        "id": "LqTJP5SdMwQ7"
      },
      "source": [
        "class PositionalEmbedding(tf.keras.layers.Layer):\n",
        "    \n",
        "    def __init__(self , units , activation , **kwargs):\n",
        "        super(PositionalEmbedding , self).__init__(**kwargs)\n",
        "\n",
        "        self.units = units \n",
        "        self.activation = activation \n",
        "\n",
        "        self.dense = layers.Dense(units , activation , name = 'dense_layer')\n",
        "\n",
        "    def call(self, inputs):\n",
        "        x = self.dense(inputs)\n",
        "        return x "
      ],
      "execution_count": null,
      "outputs": []
    },
    {
      "cell_type": "code",
      "metadata": {
        "colab": {
          "base_uri": "https://localhost:8080/"
        },
        "id": "Zk7tGRAvUIgH",
        "outputId": "454b9fa4-7e76-4f37-ed9a-af7424344842"
      },
      "source": [
        "# Testing out the above layer\n",
        "l = PositionalEmbedding(32 , 'relu')\n",
        "m = tf.one_hot(train_df['Blur'].to_numpy() , depth= 1)\n",
        "l(m)"
      ],
      "execution_count": null,
      "outputs": [
        {
          "output_type": "execute_result",
          "data": {
            "text/plain": [
              "<tf.Tensor: shape=(9912, 32), dtype=float32, numpy=\n",
              "array([[0.00614282, 0.        , 0.        , ..., 0.        , 0.13207012,\n",
              "        0.35174382],\n",
              "       [0.00614282, 0.        , 0.        , ..., 0.        , 0.13207012,\n",
              "        0.35174382],\n",
              "       [0.00614282, 0.        , 0.        , ..., 0.        , 0.13207012,\n",
              "        0.35174382],\n",
              "       ...,\n",
              "       [0.00614282, 0.        , 0.        , ..., 0.        , 0.13207012,\n",
              "        0.35174382],\n",
              "       [0.00614282, 0.        , 0.        , ..., 0.        , 0.13207012,\n",
              "        0.35174382],\n",
              "       [0.00614282, 0.        , 0.        , ..., 0.        , 0.13207012,\n",
              "        0.35174382]], dtype=float32)>"
            ]
          },
          "metadata": {},
          "execution_count": 17
        }
      ]
    },
    {
      "cell_type": "code",
      "metadata": {
        "id": "ACFHiZXHbsYQ"
      },
      "source": [
        "# Converting the other features into one hot encoded representation \n",
        "def one_hot_conversion(col_list):\n",
        "    one_hot = tf.one_hot(col_list, depth = 1 , dtype = tf.int32)\n",
        "    return one_hot\n",
        "\n",
        "# Converting only 4 columns for now\n",
        "eyes_one_hot = one_hot_conversion(train_df.Eyes.tolist())\n",
        "face_one_hot = one_hot_conversion(train_df.Face.tolist())\n",
        "near_one_hot = one_hot_conversion(train_df.Near.tolist())\n",
        "group_one_hot = one_hot_conversion(train_df.Group.tolist())"
      ],
      "execution_count": null,
      "outputs": []
    },
    {
      "cell_type": "markdown",
      "metadata": {
        "id": "_-qElpLFcPWN"
      },
      "source": [
        "Using the above layers and combining into a full feledged model! \n",
        "\n"
      ]
    },
    {
      "cell_type": "code",
      "metadata": {
        "id": "hjHsYnCucRct"
      },
      "source": [
        "# # Data Augmentation layers \n",
        "# from tensorflow.keras.layers.experimental import preprocessing\n",
        "\n",
        "# data_augmentation = tf.keras.Sequential([\n",
        "#     preprocessing.RandomFlip('horizontal'), \n",
        "#     preprocessing.RandomZoom(0.2), \n",
        "#     preprocessing.RandomRotation(0.3), \n",
        "#     preprocessing.RandomHeight(0.4), \n",
        "#     preprocessing.RandomWidth(0.4)\n",
        "# ], name ='data_augmentation')\n",
        "\n",
        "# After the new tf version update, using data augmentation throws error. "
      ],
      "execution_count": null,
      "outputs": []
    },
    {
      "cell_type": "code",
      "metadata": {
        "colab": {
          "base_uri": "https://localhost:8080/"
        },
        "id": "SR5siNQ90298",
        "outputId": "1d3f8a40-019e-4243-eaa6-0bbdd61ddc51"
      },
      "source": [
        "eyes_one_hot[0]"
      ],
      "execution_count": null,
      "outputs": [
        {
          "output_type": "execute_result",
          "data": {
            "text/plain": [
              "<tf.Tensor: shape=(1,), dtype=int32, numpy=array([0], dtype=int32)>"
            ]
          },
          "metadata": {},
          "execution_count": 20
        }
      ]
    },
    {
      "cell_type": "code",
      "metadata": {
        "id": "1D7uVXASzt48"
      },
      "source": [
        "image_embed = ImageEmbedding(32 , activation= 'relu' , shape = (224 , 224 , 3))\n",
        "positional_layer = PositionalEmbedding(32 , 'relu')"
      ],
      "execution_count": null,
      "outputs": []
    },
    {
      "cell_type": "code",
      "metadata": {
        "colab": {
          "base_uri": "https://localhost:8080/"
        },
        "id": "Y0kjQFg-dS2s",
        "outputId": "e6829080-bed3-428d-c779-61e8aad21c1a"
      },
      "source": [
        "# Building the model \n",
        "\n",
        "# Image inputs\n",
        "input = layers.Input(shape = (224 , 224 , 3))\n",
        "image_embedding = image_embed(input)\n",
        "image_embed_model = tf.keras.Model(input , image_embedding)\n",
        "\n",
        "\n",
        "# Eyes inputs \n",
        "eyes_input = layers.Input(shape = (1,), dtype = tf.int32)\n",
        "eyes_pos_embed = positional_layer(eyes_input)\n",
        "eyes_output = layers.Dense(32, name = 'eyes_feature')(eyes_pos_embed)\n",
        "eyes_embed_model = tf.keras.Model(eyes_input , eyes_output)\n",
        "\n",
        "\n",
        "# Face inputs \n",
        "face_input = layers.Input(shape = (1,), dtype = tf.int32)\n",
        "face_pos_embed = positional_layer(face_input)\n",
        "face_output = layers.Dense(32 , name = 'face_feature')(face_pos_embed)\n",
        "face_embed_model = tf.keras.Model(face_input , face_output)\n",
        "\n",
        "# Combining the inputs \n",
        "\n",
        "\n",
        "\n"
      ],
      "execution_count": null,
      "outputs": [
        {
          "output_type": "stream",
          "name": "stdout",
          "text": [
            "WARNING:tensorflow:Model was constructed with shape (None, None, None, 3) for input KerasTensor(type_spec=TensorSpec(shape=(None, None, None, 3), dtype=tf.float32, name='input_40'), name='input_40', description=\"created by layer 'input_40'\"), but it was called on an input with incompatible shape (224, 224, 3).\n"
          ]
        }
      ]
    },
    {
      "cell_type": "code",
      "metadata": {
        "id": "Fj9DzWzH0F4A"
      },
      "source": [
        "* eyes \n",
        "* face \n",
        "* near \n",
        "* group \n",
        "\n",
        "\n",
        "# The Plan \n",
        "\n",
        "* Concatenate the inputs \n",
        "* Different loss functions for different types of inputs (define them via name)"
      ],
      "execution_count": null,
      "outputs": []
    },
    {
      "cell_type": "markdown",
      "source": [
        "## Different Experiments "
      ],
      "metadata": {
        "id": "MMrter14R1QD"
      }
    },
    {
      "cell_type": "markdown",
      "source": [
        "### Experiment Number 1 \n",
        "\n",
        "Using a simple CNN without any complications."
      ],
      "metadata": {
        "id": "MSkVtXgFR3PG"
      }
    },
    {
      "cell_type": "code",
      "source": [
        "base_model = tf.keras.applications.EfficientNetB3(include_top = False)\n",
        "base_model.trainable = False \n",
        "\n",
        "\n",
        "# Set up the model with other following layers \n",
        "inputs = layers.Input(shape = (224 ,224 , 3) , name = 'input_layer')\n",
        "x = base_model(inputs , training = False)\n",
        "x = layers.GlobalAveragePooling2D(name = 'pool_layer')(x)\n",
        "x = layers.Flatten()(x)\n",
        "x = layers.Dense(256 , activation = 'relu')(x)\n",
        "x = layers.Dropout(0.4)(x)\n",
        "outputs = layers.Dense(1)(x)\n",
        "\n",
        "model = tf.keras.Model(inputs , outputs)\n",
        "\n",
        "model.summary()"
      ],
      "metadata": {
        "colab": {
          "base_uri": "https://localhost:8080/"
        },
        "id": "MkeZ_0t0VMFN",
        "outputId": "39d79900-f55d-466d-ef95-1331a23e3525"
      },
      "execution_count": null,
      "outputs": [
        {
          "output_type": "stream",
          "name": "stdout",
          "text": [
            "Downloading data from https://storage.googleapis.com/keras-applications/efficientnetb3_notop.h5\n",
            "43941888/43941136 [==============================] - 0s 0us/step\n",
            "43950080/43941136 [==============================] - 0s 0us/step\n",
            "Model: \"model\"\n",
            "_________________________________________________________________\n",
            " Layer (type)                Output Shape              Param #   \n",
            "=================================================================\n",
            " input_layer (InputLayer)    [(None, 224, 224, 3)]     0         \n",
            "                                                                 \n",
            " efficientnetb3 (Functional)  (None, None, None, 1536)  10783535 \n",
            "                                                                 \n",
            " pool_layer (GlobalAveragePo  (None, 1536)             0         \n",
            " oling2D)                                                        \n",
            "                                                                 \n",
            " flatten (Flatten)           (None, 1536)              0         \n",
            "                                                                 \n",
            " dense (Dense)               (None, 256)               393472    \n",
            "                                                                 \n",
            " dropout (Dropout)           (None, 256)               0         \n",
            "                                                                 \n",
            " dense_1 (Dense)             (None, 1)                 257       \n",
            "                                                                 \n",
            "=================================================================\n",
            "Total params: 11,177,264\n",
            "Trainable params: 393,729\n",
            "Non-trainable params: 10,783,535\n",
            "_________________________________________________________________\n"
          ]
        }
      ]
    },
    {
      "cell_type": "code",
      "source": [
        "# Making tf dataset \n",
        "from sklearn.preprocessing import MinMaxScaler \n",
        "scaler = MinMaxScaler()\n",
        "targ_scaled = scaler.fit_transform(tf.expand_dims(train_df.Pawpularity , axis = 1)) \n",
        "\n",
        "train_filenames = tf.data.Dataset.from_tensor_slices(train_df.full_path)\n",
        "train_paw_scores = tf.data.Dataset.from_tensor_slices(targ_scaled)\n",
        "\n",
        "\n",
        "# Compiling into a dataset \n",
        "train_ds = tf.data.Dataset.zip((train_filenames , train_paw_scores))\n",
        "\n",
        "train_ds = train_ds.map(map_func = load_img , num_parallel_calls= tf.data.AUTOTUNE)\n",
        "train_ds = train_ds.shuffle(buffer_size = 1000).batch(64).prefetch(buffer_size = tf.data.AUTOTUNE)\n",
        "\n",
        "train_ds"
      ],
      "metadata": {
        "colab": {
          "base_uri": "https://localhost:8080/"
        },
        "id": "FOBUOjfnWX2F",
        "outputId": "f604cd13-43b5-4dc6-ba5a-8e114026c3d8"
      },
      "execution_count": null,
      "outputs": [
        {
          "output_type": "execute_result",
          "data": {
            "text/plain": [
              "<PrefetchDataset shapes: ((None, 224, 224, 3), (None, 1)), types: (tf.float32, tf.float64)>"
            ]
          },
          "metadata": {},
          "execution_count": 7
        }
      ]
    },
    {
      "cell_type": "code",
      "source": [
        "train_df.head()"
      ],
      "metadata": {
        "colab": {
          "base_uri": "https://localhost:8080/",
          "height": 288
        },
        "id": "TwAo4GayWg9p",
        "outputId": "7d09e91f-83d6-4b71-f311-bc1340d9be7b"
      },
      "execution_count": null,
      "outputs": [
        {
          "output_type": "execute_result",
          "data": {
            "text/html": [
              "\n",
              "  <div id=\"df-6b019c27-3c9c-40b7-884b-51199d595147\">\n",
              "    <div class=\"colab-df-container\">\n",
              "      <div>\n",
              "<style scoped>\n",
              "    .dataframe tbody tr th:only-of-type {\n",
              "        vertical-align: middle;\n",
              "    }\n",
              "\n",
              "    .dataframe tbody tr th {\n",
              "        vertical-align: top;\n",
              "    }\n",
              "\n",
              "    .dataframe thead th {\n",
              "        text-align: right;\n",
              "    }\n",
              "</style>\n",
              "<table border=\"1\" class=\"dataframe\">\n",
              "  <thead>\n",
              "    <tr style=\"text-align: right;\">\n",
              "      <th></th>\n",
              "      <th>Id</th>\n",
              "      <th>Subject Focus</th>\n",
              "      <th>Eyes</th>\n",
              "      <th>Face</th>\n",
              "      <th>Near</th>\n",
              "      <th>Action</th>\n",
              "      <th>Accessory</th>\n",
              "      <th>Group</th>\n",
              "      <th>Collage</th>\n",
              "      <th>Human</th>\n",
              "      <th>Occlusion</th>\n",
              "      <th>Info</th>\n",
              "      <th>Blur</th>\n",
              "      <th>Pawpularity</th>\n",
              "      <th>full_path</th>\n",
              "    </tr>\n",
              "  </thead>\n",
              "  <tbody>\n",
              "    <tr>\n",
              "      <th>0</th>\n",
              "      <td>0007de18844b0dbbb5e1f607da0606e0</td>\n",
              "      <td>0</td>\n",
              "      <td>1</td>\n",
              "      <td>1</td>\n",
              "      <td>1</td>\n",
              "      <td>0</td>\n",
              "      <td>0</td>\n",
              "      <td>1</td>\n",
              "      <td>0</td>\n",
              "      <td>0</td>\n",
              "      <td>0</td>\n",
              "      <td>0</td>\n",
              "      <td>0</td>\n",
              "      <td>63</td>\n",
              "      <td>/content/drive/MyDrive/Kaggle_Competition/petf...</td>\n",
              "    </tr>\n",
              "    <tr>\n",
              "      <th>1</th>\n",
              "      <td>0009c66b9439883ba2750fb825e1d7db</td>\n",
              "      <td>0</td>\n",
              "      <td>1</td>\n",
              "      <td>1</td>\n",
              "      <td>0</td>\n",
              "      <td>0</td>\n",
              "      <td>0</td>\n",
              "      <td>0</td>\n",
              "      <td>0</td>\n",
              "      <td>0</td>\n",
              "      <td>0</td>\n",
              "      <td>0</td>\n",
              "      <td>0</td>\n",
              "      <td>42</td>\n",
              "      <td>/content/drive/MyDrive/Kaggle_Competition/petf...</td>\n",
              "    </tr>\n",
              "    <tr>\n",
              "      <th>2</th>\n",
              "      <td>0013fd999caf9a3efe1352ca1b0d937e</td>\n",
              "      <td>0</td>\n",
              "      <td>1</td>\n",
              "      <td>1</td>\n",
              "      <td>1</td>\n",
              "      <td>0</td>\n",
              "      <td>0</td>\n",
              "      <td>0</td>\n",
              "      <td>0</td>\n",
              "      <td>1</td>\n",
              "      <td>1</td>\n",
              "      <td>0</td>\n",
              "      <td>0</td>\n",
              "      <td>28</td>\n",
              "      <td>/content/drive/MyDrive/Kaggle_Competition/petf...</td>\n",
              "    </tr>\n",
              "    <tr>\n",
              "      <th>3</th>\n",
              "      <td>0018df346ac9c1d8413cfcc888ca8246</td>\n",
              "      <td>0</td>\n",
              "      <td>1</td>\n",
              "      <td>1</td>\n",
              "      <td>1</td>\n",
              "      <td>0</td>\n",
              "      <td>0</td>\n",
              "      <td>0</td>\n",
              "      <td>0</td>\n",
              "      <td>0</td>\n",
              "      <td>0</td>\n",
              "      <td>0</td>\n",
              "      <td>0</td>\n",
              "      <td>15</td>\n",
              "      <td>/content/drive/MyDrive/Kaggle_Competition/petf...</td>\n",
              "    </tr>\n",
              "    <tr>\n",
              "      <th>4</th>\n",
              "      <td>001dc955e10590d3ca4673f034feeef2</td>\n",
              "      <td>0</td>\n",
              "      <td>0</td>\n",
              "      <td>0</td>\n",
              "      <td>1</td>\n",
              "      <td>0</td>\n",
              "      <td>0</td>\n",
              "      <td>1</td>\n",
              "      <td>0</td>\n",
              "      <td>0</td>\n",
              "      <td>0</td>\n",
              "      <td>0</td>\n",
              "      <td>0</td>\n",
              "      <td>72</td>\n",
              "      <td>/content/drive/MyDrive/Kaggle_Competition/petf...</td>\n",
              "    </tr>\n",
              "  </tbody>\n",
              "</table>\n",
              "</div>\n",
              "      <button class=\"colab-df-convert\" onclick=\"convertToInteractive('df-6b019c27-3c9c-40b7-884b-51199d595147')\"\n",
              "              title=\"Convert this dataframe to an interactive table.\"\n",
              "              style=\"display:none;\">\n",
              "        \n",
              "  <svg xmlns=\"http://www.w3.org/2000/svg\" height=\"24px\"viewBox=\"0 0 24 24\"\n",
              "       width=\"24px\">\n",
              "    <path d=\"M0 0h24v24H0V0z\" fill=\"none\"/>\n",
              "    <path d=\"M18.56 5.44l.94 2.06.94-2.06 2.06-.94-2.06-.94-.94-2.06-.94 2.06-2.06.94zm-11 1L8.5 8.5l.94-2.06 2.06-.94-2.06-.94L8.5 2.5l-.94 2.06-2.06.94zm10 10l.94 2.06.94-2.06 2.06-.94-2.06-.94-.94-2.06-.94 2.06-2.06.94z\"/><path d=\"M17.41 7.96l-1.37-1.37c-.4-.4-.92-.59-1.43-.59-.52 0-1.04.2-1.43.59L10.3 9.45l-7.72 7.72c-.78.78-.78 2.05 0 2.83L4 21.41c.39.39.9.59 1.41.59.51 0 1.02-.2 1.41-.59l7.78-7.78 2.81-2.81c.8-.78.8-2.07 0-2.86zM5.41 20L4 18.59l7.72-7.72 1.47 1.35L5.41 20z\"/>\n",
              "  </svg>\n",
              "      </button>\n",
              "      \n",
              "  <style>\n",
              "    .colab-df-container {\n",
              "      display:flex;\n",
              "      flex-wrap:wrap;\n",
              "      gap: 12px;\n",
              "    }\n",
              "\n",
              "    .colab-df-convert {\n",
              "      background-color: #E8F0FE;\n",
              "      border: none;\n",
              "      border-radius: 50%;\n",
              "      cursor: pointer;\n",
              "      display: none;\n",
              "      fill: #1967D2;\n",
              "      height: 32px;\n",
              "      padding: 0 0 0 0;\n",
              "      width: 32px;\n",
              "    }\n",
              "\n",
              "    .colab-df-convert:hover {\n",
              "      background-color: #E2EBFA;\n",
              "      box-shadow: 0px 1px 2px rgba(60, 64, 67, 0.3), 0px 1px 3px 1px rgba(60, 64, 67, 0.15);\n",
              "      fill: #174EA6;\n",
              "    }\n",
              "\n",
              "    [theme=dark] .colab-df-convert {\n",
              "      background-color: #3B4455;\n",
              "      fill: #D2E3FC;\n",
              "    }\n",
              "\n",
              "    [theme=dark] .colab-df-convert:hover {\n",
              "      background-color: #434B5C;\n",
              "      box-shadow: 0px 1px 3px 1px rgba(0, 0, 0, 0.15);\n",
              "      filter: drop-shadow(0px 1px 2px rgba(0, 0, 0, 0.3));\n",
              "      fill: #FFFFFF;\n",
              "    }\n",
              "  </style>\n",
              "\n",
              "      <script>\n",
              "        const buttonEl =\n",
              "          document.querySelector('#df-6b019c27-3c9c-40b7-884b-51199d595147 button.colab-df-convert');\n",
              "        buttonEl.style.display =\n",
              "          google.colab.kernel.accessAllowed ? 'block' : 'none';\n",
              "\n",
              "        async function convertToInteractive(key) {\n",
              "          const element = document.querySelector('#df-6b019c27-3c9c-40b7-884b-51199d595147');\n",
              "          const dataTable =\n",
              "            await google.colab.kernel.invokeFunction('convertToInteractive',\n",
              "                                                     [key], {});\n",
              "          if (!dataTable) return;\n",
              "\n",
              "          const docLinkHtml = 'Like what you see? Visit the ' +\n",
              "            '<a target=\"_blank\" href=https://colab.research.google.com/notebooks/data_table.ipynb>data table notebook</a>'\n",
              "            + ' to learn more about interactive tables.';\n",
              "          element.innerHTML = '';\n",
              "          dataTable['output_type'] = 'display_data';\n",
              "          await google.colab.output.renderOutput(dataTable, element);\n",
              "          const docLink = document.createElement('div');\n",
              "          docLink.innerHTML = docLinkHtml;\n",
              "          element.appendChild(docLink);\n",
              "        }\n",
              "      </script>\n",
              "    </div>\n",
              "  </div>\n",
              "  "
            ],
            "text/plain": [
              "                                 Id  ...                                          full_path\n",
              "0  0007de18844b0dbbb5e1f607da0606e0  ...  /content/drive/MyDrive/Kaggle_Competition/petf...\n",
              "1  0009c66b9439883ba2750fb825e1d7db  ...  /content/drive/MyDrive/Kaggle_Competition/petf...\n",
              "2  0013fd999caf9a3efe1352ca1b0d937e  ...  /content/drive/MyDrive/Kaggle_Competition/petf...\n",
              "3  0018df346ac9c1d8413cfcc888ca8246  ...  /content/drive/MyDrive/Kaggle_Competition/petf...\n",
              "4  001dc955e10590d3ca4673f034feeef2  ...  /content/drive/MyDrive/Kaggle_Competition/petf...\n",
              "\n",
              "[5 rows x 15 columns]"
            ]
          },
          "metadata": {},
          "execution_count": 8
        }
      ]
    },
    {
      "cell_type": "code",
      "source": [
        "# Compiling the model \n",
        "model.compile(loss = tf.keras.losses.BinaryCrossentropy(),  \n",
        "              optimizer = tf.keras.optimizers.Adam() , \n",
        "              metrics = [tf.keras.metrics.RootMeanSquaredError()])\n",
        "\n",
        "# Fitting the model \n",
        "model.fit(train_ds , \n",
        "          epochs = 3)"
      ],
      "metadata": {
        "colab": {
          "base_uri": "https://localhost:8080/"
        },
        "id": "mDDx89ShWBMM",
        "outputId": "c789e5a1-9bb9-4cf4-cad3-ffe5676e7187"
      },
      "execution_count": null,
      "outputs": [
        {
          "output_type": "stream",
          "name": "stdout",
          "text": [
            "Epoch 1/3\n",
            "155/155 [==============================] - 300s 790ms/step - loss: 9.5195 - root_mean_squared_error: 8.1786\n",
            "Epoch 2/3\n",
            "155/155 [==============================] - 134s 788ms/step - loss: 9.5440 - root_mean_squared_error: 8.5802\n",
            "Epoch 3/3\n",
            "155/155 [==============================] - 133s 783ms/step - loss: 9.5440 - root_mean_squared_error: 8.5628\n"
          ]
        },
        {
          "output_type": "execute_result",
          "data": {
            "text/plain": [
              "<keras.callbacks.History at 0x7f15f93ab310>"
            ]
          },
          "metadata": {},
          "execution_count": 9
        }
      ]
    },
    {
      "cell_type": "code",
      "source": [
        "# Setting all layers to trainable \n",
        "for layer in model.layers:\n",
        "    layer.trainable = True \n",
        "    print(layer.name , layer.trainable)"
      ],
      "metadata": {
        "id": "F_m2cTePXV7n",
        "colab": {
          "base_uri": "https://localhost:8080/"
        },
        "outputId": "63ed11cc-6382-4447-e99c-73b2e1d50832"
      },
      "execution_count": null,
      "outputs": [
        {
          "output_type": "stream",
          "name": "stdout",
          "text": [
            "input_layer True\n",
            "efficientnetb3 True\n",
            "pool_layer True\n",
            "flatten True\n",
            "dense True\n",
            "dropout True\n",
            "dense_1 True\n"
          ]
        }
      ]
    },
    {
      "cell_type": "code",
      "source": [
        ""
      ],
      "metadata": {
        "id": "bak19UyXOpBT"
      },
      "execution_count": null,
      "outputs": []
    },
    {
      "cell_type": "code",
      "source": [
        ""
      ],
      "metadata": {
        "id": "qqoU1-_oOpR4"
      },
      "execution_count": null,
      "outputs": []
    },
    {
      "cell_type": "code",
      "source": [
        ""
      ],
      "metadata": {
        "id": "Z2_H1WvNOpZf"
      },
      "execution_count": null,
      "outputs": []
    },
    {
      "cell_type": "code",
      "source": [
        "# Test Dataset \n",
        "\n",
        "def test_load_img(file_path):\n",
        "  im = tf.io.read_file(file_path)\n",
        "  im = tf.image.decode_jpeg(im , channels = 3)\n",
        "  im = tf.image.convert_image_dtype(im , tf.float32)\n",
        "  im = tf.image.resize(im , size = (224 , 224))\n",
        "  im = augment_data(im)\n",
        " # im = im / 255. # turns the whole image into black\n",
        "  return im \n",
        "\n",
        "test_ds = tf.data.Dataset.from_tensor_slices(test_df.full_path)\n",
        "test_ds = test_ds.map(map_func = test_load_img , num_parallel_calls= tf.data.AUTOTUNE)\n",
        "test_ds = test_ds.batch(32)\n",
        "\n",
        "test_ds"
      ],
      "metadata": {
        "colab": {
          "base_uri": "https://localhost:8080/"
        },
        "id": "UlS6bofaJtJ4",
        "outputId": "e0eb142c-9041-4d36-86fe-4f6a0bc7a016"
      },
      "execution_count": null,
      "outputs": [
        {
          "output_type": "execute_result",
          "data": {
            "text/plain": [
              "<BatchDataset shapes: (None, 224, 224, 3), types: tf.float32>"
            ]
          },
          "metadata": {},
          "execution_count": 13
        }
      ]
    },
    {
      "cell_type": "code",
      "source": [
        "preds = model.predict(test_ds , use_multiprocessing= True)\n",
        "preds"
      ],
      "metadata": {
        "colab": {
          "base_uri": "https://localhost:8080/"
        },
        "id": "TcPKylbEKuJs",
        "outputId": "a09cbf93-369a-4932-816e-7757df83ff88"
      },
      "execution_count": null,
      "outputs": [
        {
          "output_type": "execute_result",
          "data": {
            "text/plain": [
              "array([[0.39199415],\n",
              "       [0.39021626],\n",
              "       [0.39041877],\n",
              "       [0.39135686],\n",
              "       [0.39478454],\n",
              "       [0.39353696],\n",
              "       [0.39419287],\n",
              "       [0.3919762 ]], dtype=float32)"
            ]
          },
          "metadata": {},
          "execution_count": 14
        }
      ]
    },
    {
      "cell_type": "code",
      "source": [
        "scaler.inverse_transform(preds)"
      ],
      "metadata": {
        "colab": {
          "base_uri": "https://localhost:8080/"
        },
        "id": "9Z6dUQqFNgq_",
        "outputId": "44fd9e1d-dc11-46da-d87b-da0b07aa8c2c"
      },
      "execution_count": null,
      "outputs": [
        {
          "output_type": "execute_result",
          "data": {
            "text/plain": [
              "array([[39.807423],\n",
              "       [39.631413],\n",
              "       [39.65146 ],\n",
              "       [39.74433 ],\n",
              "       [40.08367 ],\n",
              "       [39.96016 ],\n",
              "       [40.025097],\n",
              "       [39.805645]], dtype=float32)"
            ]
          },
          "metadata": {},
          "execution_count": 15
        }
      ]
    },
    {
      "cell_type": "code",
      "source": [
        "submission = pd.DataFrame({'Id': test_df.Id , \n",
        "                           'Pawpularity': tf.squeeze(scaler.inverse_transform(preds))})\n",
        "\n",
        "submission.to_csv('submission.csv' , index = False)\n"
      ],
      "metadata": {
        "id": "SyPQEb_mNtn_"
      },
      "execution_count": null,
      "outputs": []
    },
    {
      "cell_type": "code",
      "source": [
        "submission"
      ],
      "metadata": {
        "colab": {
          "base_uri": "https://localhost:8080/",
          "height": 300
        },
        "id": "HuWtcapANxIp",
        "outputId": "b20ee4de-367f-4ae3-93ad-1d649b19092c"
      },
      "execution_count": null,
      "outputs": [
        {
          "output_type": "execute_result",
          "data": {
            "text/html": [
              "\n",
              "  <div id=\"df-ce61b252-a215-43b3-a81d-a01c404d3ecb\">\n",
              "    <div class=\"colab-df-container\">\n",
              "      <div>\n",
              "<style scoped>\n",
              "    .dataframe tbody tr th:only-of-type {\n",
              "        vertical-align: middle;\n",
              "    }\n",
              "\n",
              "    .dataframe tbody tr th {\n",
              "        vertical-align: top;\n",
              "    }\n",
              "\n",
              "    .dataframe thead th {\n",
              "        text-align: right;\n",
              "    }\n",
              "</style>\n",
              "<table border=\"1\" class=\"dataframe\">\n",
              "  <thead>\n",
              "    <tr style=\"text-align: right;\">\n",
              "      <th></th>\n",
              "      <th>Id</th>\n",
              "      <th>Pawpularity</th>\n",
              "    </tr>\n",
              "  </thead>\n",
              "  <tbody>\n",
              "    <tr>\n",
              "      <th>0</th>\n",
              "      <td>4128bae22183829d2b5fea10effdb0c3</td>\n",
              "      <td>39.807423</td>\n",
              "    </tr>\n",
              "    <tr>\n",
              "      <th>1</th>\n",
              "      <td>43a2262d7738e3d420d453815151079e</td>\n",
              "      <td>39.631413</td>\n",
              "    </tr>\n",
              "    <tr>\n",
              "      <th>2</th>\n",
              "      <td>4e429cead1848a298432a0acad014c9d</td>\n",
              "      <td>39.651459</td>\n",
              "    </tr>\n",
              "    <tr>\n",
              "      <th>3</th>\n",
              "      <td>80bc3ccafcc51b66303c2c263aa38486</td>\n",
              "      <td>39.744331</td>\n",
              "    </tr>\n",
              "    <tr>\n",
              "      <th>4</th>\n",
              "      <td>8f49844c382931444e68dffbe20228f4</td>\n",
              "      <td>40.083672</td>\n",
              "    </tr>\n",
              "    <tr>\n",
              "      <th>5</th>\n",
              "      <td>b03f7041962238a7c9d6537e22f9b017</td>\n",
              "      <td>39.960159</td>\n",
              "    </tr>\n",
              "    <tr>\n",
              "      <th>6</th>\n",
              "      <td>c978013571258ed6d4637f6e8cc9d6a3</td>\n",
              "      <td>40.025097</td>\n",
              "    </tr>\n",
              "    <tr>\n",
              "      <th>7</th>\n",
              "      <td>e0de453c1bffc20c22b072b34b54e50f</td>\n",
              "      <td>39.805645</td>\n",
              "    </tr>\n",
              "  </tbody>\n",
              "</table>\n",
              "</div>\n",
              "      <button class=\"colab-df-convert\" onclick=\"convertToInteractive('df-ce61b252-a215-43b3-a81d-a01c404d3ecb')\"\n",
              "              title=\"Convert this dataframe to an interactive table.\"\n",
              "              style=\"display:none;\">\n",
              "        \n",
              "  <svg xmlns=\"http://www.w3.org/2000/svg\" height=\"24px\"viewBox=\"0 0 24 24\"\n",
              "       width=\"24px\">\n",
              "    <path d=\"M0 0h24v24H0V0z\" fill=\"none\"/>\n",
              "    <path d=\"M18.56 5.44l.94 2.06.94-2.06 2.06-.94-2.06-.94-.94-2.06-.94 2.06-2.06.94zm-11 1L8.5 8.5l.94-2.06 2.06-.94-2.06-.94L8.5 2.5l-.94 2.06-2.06.94zm10 10l.94 2.06.94-2.06 2.06-.94-2.06-.94-.94-2.06-.94 2.06-2.06.94z\"/><path d=\"M17.41 7.96l-1.37-1.37c-.4-.4-.92-.59-1.43-.59-.52 0-1.04.2-1.43.59L10.3 9.45l-7.72 7.72c-.78.78-.78 2.05 0 2.83L4 21.41c.39.39.9.59 1.41.59.51 0 1.02-.2 1.41-.59l7.78-7.78 2.81-2.81c.8-.78.8-2.07 0-2.86zM5.41 20L4 18.59l7.72-7.72 1.47 1.35L5.41 20z\"/>\n",
              "  </svg>\n",
              "      </button>\n",
              "      \n",
              "  <style>\n",
              "    .colab-df-container {\n",
              "      display:flex;\n",
              "      flex-wrap:wrap;\n",
              "      gap: 12px;\n",
              "    }\n",
              "\n",
              "    .colab-df-convert {\n",
              "      background-color: #E8F0FE;\n",
              "      border: none;\n",
              "      border-radius: 50%;\n",
              "      cursor: pointer;\n",
              "      display: none;\n",
              "      fill: #1967D2;\n",
              "      height: 32px;\n",
              "      padding: 0 0 0 0;\n",
              "      width: 32px;\n",
              "    }\n",
              "\n",
              "    .colab-df-convert:hover {\n",
              "      background-color: #E2EBFA;\n",
              "      box-shadow: 0px 1px 2px rgba(60, 64, 67, 0.3), 0px 1px 3px 1px rgba(60, 64, 67, 0.15);\n",
              "      fill: #174EA6;\n",
              "    }\n",
              "\n",
              "    [theme=dark] .colab-df-convert {\n",
              "      background-color: #3B4455;\n",
              "      fill: #D2E3FC;\n",
              "    }\n",
              "\n",
              "    [theme=dark] .colab-df-convert:hover {\n",
              "      background-color: #434B5C;\n",
              "      box-shadow: 0px 1px 3px 1px rgba(0, 0, 0, 0.15);\n",
              "      filter: drop-shadow(0px 1px 2px rgba(0, 0, 0, 0.3));\n",
              "      fill: #FFFFFF;\n",
              "    }\n",
              "  </style>\n",
              "\n",
              "      <script>\n",
              "        const buttonEl =\n",
              "          document.querySelector('#df-ce61b252-a215-43b3-a81d-a01c404d3ecb button.colab-df-convert');\n",
              "        buttonEl.style.display =\n",
              "          google.colab.kernel.accessAllowed ? 'block' : 'none';\n",
              "\n",
              "        async function convertToInteractive(key) {\n",
              "          const element = document.querySelector('#df-ce61b252-a215-43b3-a81d-a01c404d3ecb');\n",
              "          const dataTable =\n",
              "            await google.colab.kernel.invokeFunction('convertToInteractive',\n",
              "                                                     [key], {});\n",
              "          if (!dataTable) return;\n",
              "\n",
              "          const docLinkHtml = 'Like what you see? Visit the ' +\n",
              "            '<a target=\"_blank\" href=https://colab.research.google.com/notebooks/data_table.ipynb>data table notebook</a>'\n",
              "            + ' to learn more about interactive tables.';\n",
              "          element.innerHTML = '';\n",
              "          dataTable['output_type'] = 'display_data';\n",
              "          await google.colab.output.renderOutput(dataTable, element);\n",
              "          const docLink = document.createElement('div');\n",
              "          docLink.innerHTML = docLinkHtml;\n",
              "          element.appendChild(docLink);\n",
              "        }\n",
              "      </script>\n",
              "    </div>\n",
              "  </div>\n",
              "  "
            ],
            "text/plain": [
              "                                 Id  Pawpularity\n",
              "0  4128bae22183829d2b5fea10effdb0c3    39.807423\n",
              "1  43a2262d7738e3d420d453815151079e    39.631413\n",
              "2  4e429cead1848a298432a0acad014c9d    39.651459\n",
              "3  80bc3ccafcc51b66303c2c263aa38486    39.744331\n",
              "4  8f49844c382931444e68dffbe20228f4    40.083672\n",
              "5  b03f7041962238a7c9d6537e22f9b017    39.960159\n",
              "6  c978013571258ed6d4637f6e8cc9d6a3    40.025097\n",
              "7  e0de453c1bffc20c22b072b34b54e50f    39.805645"
            ]
          },
          "metadata": {},
          "execution_count": 19
        }
      ]
    },
    {
      "cell_type": "code",
      "source": [
        "model.save('simple_model.h5')"
      ],
      "metadata": {
        "colab": {
          "base_uri": "https://localhost:8080/"
        },
        "id": "KzzHhek6OMIn",
        "outputId": "cb8aec85-2c88-4810-8530-8f650fc051f1"
      },
      "execution_count": null,
      "outputs": [
        {
          "output_type": "stream",
          "name": "stderr",
          "text": [
            "/usr/local/lib/python3.7/dist-packages/keras/engine/functional.py:1410: CustomMaskWarning: Custom mask layers require a config and must override get_config. When loading, the custom mask layer must be passed to the custom_objects argument.\n",
            "  layer_config = serialize_layer_fn(layer)\n"
          ]
        }
      ]
    },
    {
      "cell_type": "code",
      "source": [
        "new = tf.keras.models.load_model('simple_model.h5')\n",
        "new.summary()"
      ],
      "metadata": {
        "colab": {
          "base_uri": "https://localhost:8080/"
        },
        "id": "H2pSDcXqPtHo",
        "outputId": "fc0e2e93-ce4b-4069-a8e0-25e2cab486b6"
      },
      "execution_count": null,
      "outputs": [
        {
          "output_type": "stream",
          "name": "stdout",
          "text": [
            "WARNING:tensorflow:Error in loading the saved optimizer state. As a result, your model is starting with a freshly initialized optimizer.\n",
            "Model: \"model\"\n",
            "_________________________________________________________________\n",
            " Layer (type)                Output Shape              Param #   \n",
            "=================================================================\n",
            " input_layer (InputLayer)    [(None, 224, 224, 3)]     0         \n",
            "                                                                 \n",
            " efficientnetb1 (Functional)  (None, None, None, 1280)  6575239  \n",
            "                                                                 \n",
            " pool_layer (GlobalAveragePo  (None, 1280)             0         \n",
            " oling2D)                                                        \n",
            "                                                                 \n",
            " flatten (Flatten)           (None, 1280)              0         \n",
            "                                                                 \n",
            " dense (Dense)               (None, 256)               327936    \n",
            "                                                                 \n",
            " dropout (Dropout)           (None, 256)               0         \n",
            "                                                                 \n",
            " dense_1 (Dense)             (None, 1)                 257       \n",
            "                                                                 \n",
            "=================================================================\n",
            "Total params: 6,903,432\n",
            "Trainable params: 6,841,377\n",
            "Non-trainable params: 62,055\n",
            "_________________________________________________________________\n"
          ]
        }
      ]
    },
    {
      "cell_type": "code",
      "source": [
        ""
      ],
      "metadata": {
        "id": "499Rwz1rQJj7"
      },
      "execution_count": null,
      "outputs": []
    }
  ]
}